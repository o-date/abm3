{
 "cells": [
  {
   "cell_type": "code",
   "execution_count": 1,
   "metadata": {},
   "outputs": [],
   "source": [
    "library(\"rJava\")"
   ]
  },
  {
   "cell_type": "code",
   "execution_count": 2,
   "metadata": {},
   "outputs": [
    {
     "name": "stderr",
     "output_type": "stream",
     "text": [
      "Loading required package: igraph\n",
      "\n",
      "Attaching package: ‘igraph’\n",
      "\n",
      "The following objects are masked from ‘package:stats’:\n",
      "\n",
      "    decompose, spectrum\n",
      "\n",
      "The following object is masked from ‘package:base’:\n",
      "\n",
      "    union\n",
      "\n"
     ]
    }
   ],
   "source": [
    "library(\"RNetLogo\")"
   ]
  },
  {
   "cell_type": "code",
   "execution_count": 3,
   "metadata": {},
   "outputs": [],
   "source": [
    "Sys.setenv(NOAWT=1)"
   ]
  },
  {
   "cell_type": "code",
   "execution_count": 9,
   "metadata": {},
   "outputs": [],
   "source": [
    "nl.path <- getwd()"
   ]
  },
  {
   "cell_type": "code",
   "execution_count": 10,
   "metadata": {},
   "outputs": [],
   "source": [
    "nl.jarname <- \"netlogo-6.0.4.jar\""
   ]
  },
  {
   "cell_type": "code",
   "execution_count": 11,
   "metadata": {},
   "outputs": [
    {
     "ename": "ERROR",
     "evalue": "Error in .jcall(preobj, \"S\", \"cpsettings\", .jnew(\"java/lang/String\", nl.path), : java.awt.HeadlessException\n",
     "output_type": "error",
     "traceback": [
      "Error in .jcall(preobj, \"S\", \"cpsettings\", .jnew(\"java/lang/String\", nl.path), : java.awt.HeadlessException\nTraceback:\n",
      "1. NLStart(nl.path, gui = FALSE, nl.jarname = nl.jarname)",
      "2. Prepro(nl.path, nl.jarname)",
      "3. .jcall(preobj, \"S\", \"cpsettings\", .jnew(\"java/lang/String\", nl.path), \n .     .jnew(\"java/lang/String\", jarname))",
      "4. .jcheck(silent = FALSE)"
     ]
    }
   ],
   "source": [
    "NLStart(nl.path, gui=FALSE, nl.jarname=nl.jarname)"
   ]
  },
  {
   "cell_type": "code",
   "execution_count": null,
   "metadata": {},
   "outputs": [],
   "source": []
  }
 ],
 "metadata": {
  "kernelspec": {
   "display_name": "R",
   "language": "R",
   "name": "ir"
  },
  "language_info": {
   "codemirror_mode": "r",
   "file_extension": ".r",
   "mimetype": "text/x-r-source",
   "name": "R",
   "pygments_lexer": "r",
   "version": "3.4.4"
  }
 },
 "nbformat": 4,
 "nbformat_minor": 2
}
