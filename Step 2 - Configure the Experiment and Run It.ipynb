{
 "cells": [
  {
   "cell_type": "markdown",
   "metadata": {},
   "source": [
    "In this notebook, we create a dropdown menu to pre-configure the various experiments we might want to run in Netlogo. This notebook was originally built by Eric Shook (UMN) and modified by Colin D. Wren (UCCS).\n"
   ]
  },
  {
   "cell_type": "code",
   "execution_count": 1,
   "metadata": {},
   "outputs": [
    {
     "data": {
      "application/vnd.jupyter.widget-view+json": {
       "model_id": "32c5d3357b564dfb8f74a42ad9ddebcf",
       "version_major": 2,
       "version_minor": 0
      },
      "text/plain": [
       "Dropdown(description='Model path and name:', options=('/home/jovyan/NetLogo6.0.4/app/models/Sample Models/Netw…"
      ]
     },
     "metadata": {},
     "output_type": "display_data"
    },
    {
     "data": {
      "application/vnd.jupyter.widget-view+json": {
       "model_id": "db9f1b9fd9344d4d8d07ba786f192df4",
       "version_major": 2,
       "version_minor": 0
      },
      "text/plain": [
       "Dropdown(description='BehaviorSpace experiment name:', options=('experiment1.xml', 'test2'), value='experiment…"
      ]
     },
     "metadata": {},
     "output_type": "display_data"
    },
    {
     "data": {
      "application/vnd.jupyter.widget-view+json": {
       "model_id": "f742c72ee1434ecc8da86464874b411d",
       "version_major": 2,
       "version_minor": 0
      },
      "text/plain": [
       "Text(value='test.csv', description='Output table name:')"
      ]
     },
     "metadata": {},
     "output_type": "display_data"
    },
    {
     "data": {
      "application/vnd.jupyter.widget-view+json": {
       "model_id": "f00b39d68a1e4c54b0141f04a32f8615",
       "version_major": 2,
       "version_minor": 0
      },
      "text/plain": [
       "Button(description='Run ABM Experiment', style=ButtonStyle())"
      ]
     },
     "metadata": {},
     "output_type": "display_data"
    },
    {
     "name": "stdout",
     "output_type": "stream",
     "text": [
      "ABM experiment running ...\n"
     ]
    }
   ],
   "source": [
    "import subprocess\n",
    "import ipywidgets as widgets\n",
    "from IPython.display import display\n",
    "\n",
    "def runabm(model,experiment,tablename):\n",
    "    subprocess.check_output(\"./run-abm-script \"+model+\" \"+experiment+\" \"+tablename,shell=True)\n",
    "\n",
    "wmodel = widgets.Dropdown(description='Model path and name:',\n",
    "    options=['/home/jovyan/NetLogo6.0.4/app/models/Sample Models/Biology/Virus.nlogo'])\n",
    "\n",
    "wexp = widgets.Dropdown(description=\"BehaviorSpace experiment name:\",\n",
    "    options=['experiment.xml', 'test2'])\n",
    "\n",
    "wtable = widgets.Text(description=\"Output table name:\",\n",
    "    value='test.csv')\n",
    "\n",
    "def on_run_click(b):\n",
    "    print(\"ABM experiment running ...\")\n",
    "    runabm(wmodel.value,wexp.value,wtable.value)\n",
    "    print(\"ABM experiment complete.\")\n",
    "        \n",
    "wrun = widgets.Button(description=\"Run ABM Experiment\")\n",
    "wrun.on_click(on_run_click)\n",
    "\n",
    "display(wmodel,wexp,wtable,wrun)"
   ]
  }
 ],
 "metadata": {
  "kernelspec": {
   "display_name": "Python 3",
   "language": "python",
   "name": "python3"
  },
  "language_info": {
   "codemirror_mode": {
    "name": "ipython",
    "version": 3
   },
   "file_extension": ".py",
   "mimetype": "text/x-python",
   "name": "python",
   "nbconvert_exporter": "python",
   "pygments_lexer": "ipython3",
   "version": "3.6.6"
  }
 },
 "nbformat": 4,
 "nbformat_minor": 2
}
