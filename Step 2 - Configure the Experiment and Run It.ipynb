{
 "cells": [
  {
   "cell_type": "markdown",
   "metadata": {},
   "source": [
    "In this notebook, we create a dropdown menu to pre-configure the various experiments we might want to run in Netlogo. This notebook was originally built by Eric Shook (UMN) and modified by Colin D. Wren (UCCS).\n"
   ]
  },
  {
   "cell_type": "code",
   "execution_count": null,
   "metadata": {},
   "outputs": [],
   "source": [
    "import subprocess\n",
    "import ipywidgets as widgets\n",
    "from IPython.display import display\n",
    "\n",
    "def runabm(model,experiment,tablename):\n",
    "    subprocess.check_output(\"./run-abm-script \"+model+\" \"+experiment+\" \"+tablename,shell=True)\n",
    "\n",
    "wmodel = widgets.Dropdown(description='Model path and name:',\n",
    "    options=['/home/jovyan/NetLogo6.0.4/app/models/Sample_Models/Biology/Virus.nlogo'])\n",
    "\n",
    "wexp = widgets.Dropdown(description=\"BehaviorSpace experiment name:\",\n",
    "    options=['experiment.xml', 'test2'])\n",
    "\n",
    "wtable = widgets.Text(description=\"Output table name:\",\n",
    "    value='test.csv')\n",
    "\n",
    "def on_run_click(b):\n",
    "    print(\"ABM experiment running ...\")\n",
    "    runabm(wmodel.value,wexp.value,wtable.value)\n",
    "    print(\"ABM experiment complete.\")\n",
    "        \n",
    "wrun = widgets.Button(description=\"Run ABM Experiment\")\n",
    "wrun.on_click(on_run_click)\n",
    "\n",
    "display(wmodel,wexp,wtable,wrun)"
   ]
  },
  {
   "cell_type": "code",
   "execution_count": null,
   "metadata": {},
   "outputs": [],
   "source": []
  }
 ],
 "metadata": {
  "kernelspec": {
   "display_name": "Python 3",
   "language": "python",
   "name": "python3"
  },
  "language_info": {
   "codemirror_mode": {
    "name": "ipython",
    "version": 3
   },
   "file_extension": ".py",
   "mimetype": "text/x-python",
   "name": "python",
   "nbconvert_exporter": "python",
   "pygments_lexer": "ipython3",
   "version": "3.6.6"
  }
 },
 "nbformat": 4,
 "nbformat_minor": 2
}
