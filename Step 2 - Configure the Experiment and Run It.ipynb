{
 "cells": [
  {
   "cell_type": "markdown",
   "metadata": {},
   "source": [
    "In this notebook, we create a dropdown menu to pre-configure the various experiments we might want to run in Netlogo. This notebook was originally built by Eric Shook (UMN) and modified by Colin D. Wren (UCCS).\n"
   ]
  },
  {
   "cell_type": "code",
   "execution_count": 2,
   "metadata": {},
   "outputs": [
    {
     "data": {
      "application/vnd.jupyter.widget-view+json": {
       "model_id": "e5dec88e035946edb2ed978b14b3870d",
       "version_major": 2,
       "version_minor": 0
      },
      "text/plain": [
       "Dropdown(description='Model path and name:', options=('/home/jovyan/NetLogo6.0.4/app/models/Sample Models/Biol…"
      ]
     },
     "metadata": {},
     "output_type": "display_data"
    },
    {
     "data": {
      "application/vnd.jupyter.widget-view+json": {
       "model_id": "19018b5fd3a948f782a419a7881048f7",
       "version_major": 2,
       "version_minor": 0
      },
      "text/plain": [
       "Dropdown(description='BehaviorSpace experiment name:', options=('experiment1.xml', 'test2'), value='experiment1.xml')"
      ]
     },
     "metadata": {},
     "output_type": "display_data"
    },
    {
     "data": {
      "application/vnd.jupyter.widget-view+json": {
       "model_id": "34cb1fb63b7040f5894a965fbbfeaeaa",
       "version_major": 2,
       "version_minor": 0
      },
      "text/plain": [
       "Text(value='test.csv', description='Output table name:')"
      ]
     },
     "metadata": {},
     "output_type": "display_data"
    },
    {
     "data": {
      "application/vnd.jupyter.widget-view+json": {
       "model_id": "f96a89a97e7d4b1ca39114a9e32f2cf5",
       "version_major": 2,
       "version_minor": 0
      },
      "text/plain": [
       "Button(description='Run ABM Experiment', style=ButtonStyle())"
      ]
     },
     "metadata": {},
     "output_type": "display_data"
    },
    {
     "name": "stdout",
     "output_type": "stream",
     "text": [
      "ABM experiment running ...\n"
     ]
    }
   ],
   "source": [
    "import subprocess\n",
    "import ipywidgets as widgets\n",
    "from IPython.display import display\n",
    "\n",
    "def runabm(model,experiment,tablename):\n",
    "    subprocess.check_output(\"./run-abm-script \"+model+\" \"+experiment+\" \"+tablename,shell=True)\n",
    "\n",
    "wmodel = widgets.Dropdown(description='Model path and name:',\n",
    "    options=['/home/jovyan/NetLogo6.0.4/app/models/Sample Models/Biology/Virus.nlogo'])\n",
    "\n",
    "wexp = widgets.Dropdown(description=\"BehaviorSpace experiment name:\",\n",
    "    options=['test', 'test2'])\n",
    "\n",
    "wtable = widgets.Text(description=\"Output table name:\",\n",
    "    value='test.csv')\n",
    "\n",
    "def on_run_click(b):\n",
    "    print(\"ABM experiment running ...\")\n",
    "    runabm(wmodel.value,wexp.value,wtable.value)\n",
    "    print(\"ABM experiment complete.\")\n",
    "        \n",
    "wrun = widgets.Button(description=\"Run ABM Experiment\")\n",
    "wrun.on_click(on_run_click)\n",
    "\n",
    "display(wmodel,wexp,wtable,wrun)"
   ]
  },
  {
   "cell_type": "markdown",
   "metadata": {},
   "source": [
    "the above runs a bash script that looks like the below (copy paste out into a new file called run-abm-script):\n",
    "\n",
    "```\n",
    "#!/bin/bash\n",
    "\n",
    "MODEL=$1\n",
    "EXP=$2\n",
    "TABLE=$3\n",
    "\n",
    "echo \"Model:      $MODEL\"\n",
    "echo \"Experiment: $EXP\"\n",
    "echo \"Table:      $TABLE\"\n",
    "\n",
    "WORKINGDIR=$PWD\n",
    "\n",
    "java -server -Dcom.sun.media.jai.disableMediaLib=true  -cp .:$WORKINGDIR/NetLogo6.0.4/app/netlogo-6.0.4.jar  org.nlogo.headless.Main --model $MODEL --experiment $EXP  --table $TABLE\n",
    "```\n",
    "\n",
    "I would suggest adding a line to your step 1 notebook to rename the Netlogo folder to something without spaces. Bash doesn't like spaces. Also this script would have to be edited for other versions of netlogo (I'm still amazed by curl btw).\n",
    "\n",
    "Also you need to run chmod +x run-abm-script to give executable permissions to the script before it can be run."
   ]
  },
  {
   "cell_type": "code",
   "execution_count": null,
   "metadata": {},
   "outputs": [],
   "source": []
  }
 ],
 "metadata": {
  "kernelspec": {
   "display_name": "Python 3",
   "language": "python",
   "name": "python3"
  },
  "language_info": {
   "codemirror_mode": {
    "name": "ipython",
    "version": 3
   },
   "file_extension": ".py",
   "mimetype": "text/x-python",
   "name": "python",
   "nbconvert_exporter": "python",
   "pygments_lexer": "ipython3",
   "version": "3.6.6"
  }
 },
 "nbformat": 4,
 "nbformat_minor": 2
}
